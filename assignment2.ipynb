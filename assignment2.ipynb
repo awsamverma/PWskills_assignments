{
 "cells": [
  {
   "cell_type": "markdown",
   "id": "b1d3fead-8ced-4d26-8eff-ac5c89d54612",
   "metadata": {},
   "source": [
    "Q1. How do you comment code in Python? What are the different types of comments?"
   ]
  },
  {
   "cell_type": "code",
   "execution_count": 1,
   "id": "4d27d345-15f6-44a5-ac28-f39264a99f34",
   "metadata": {},
   "outputs": [
    {
     "data": {
      "text/plain": [
       "'\\nmulti\\nline\\ncomment\\n'"
      ]
     },
     "execution_count": 1,
     "metadata": {},
     "output_type": "execute_result"
    }
   ],
   "source": [
    "# single line comment\n",
    "\n",
    "'''\n",
    "multi\n",
    "line\n",
    "comment\n",
    "'''"
   ]
  },
  {
   "cell_type": "markdown",
   "id": "266ba81b-de84-45a6-b7a8-aa1620cbe657",
   "metadata": {},
   "source": [
    "Q2. What are variables in Python? How do you declare and assign values to variables?"
   ]
  },
  {
   "cell_type": "markdown",
   "id": "5ba6cea6-76ab-4e5d-8e84-962a9ceaabc3",
   "metadata": {},
   "source": [
    "In Python, variables are used to store and manipulate data. A variable is essentially a named location in the computer's memory where a value can be stored. It allows you to refer to the stored value by its assigned name.\n"
   ]
  },
  {
   "cell_type": "code",
   "execution_count": 2,
   "id": "3d1f453f-2bb3-4f8d-a0ba-e8409daee3ff",
   "metadata": {},
   "outputs": [],
   "source": [
    "age = 25\n",
    "name = \"Sameer\"\n",
    "height=180.34 \n",
    "pw_student = True"
   ]
  },
  {
   "cell_type": "markdown",
   "id": "66a6e056-280f-46d7-94dd-4eee3e5012d7",
   "metadata": {},
   "source": [
    "Q3. How do you convert one data type to another in Python?"
   ]
  },
  {
   "cell_type": "code",
   "execution_count": 4,
   "id": "99a10bd1-4eba-42e7-b4b5-ebca98177ffd",
   "metadata": {},
   "outputs": [],
   "source": [
    "num = int(\"10\")  # Converts the string \"10\" to the integer 10\n",
    "num = float(\"3.14\")  # Converts the string \"3.14\" to the float 3.14\n",
    "text = str(42)  # Converts the integer 42 to the string \"42\"\n",
    "is_true = bool(1)  # Converts the integer 1 to the boolean True\n",
    "numbers = list((1, 2, 3))  # Converts the tuple (1, 2, 3) to the list [1, 2, 3]\n",
    "items = tuple([1, 2, 3])  # Converts the list [1, 2, 3] to the tuple (1, 2, 3)\n",
    "unique_numbers = set([1, 2, 3, 2, 1])  # Converts the list to a set {1, 2, 3}\n",
    "person = dict(name=\"John\", age=30)  # Converts the key-value pairs to a dictionary {'name': 'John', 'age': 30}"
   ]
  },
  {
   "cell_type": "markdown",
   "id": "ea88c101-fbb5-4513-89a2-6dd9b0a70f5d",
   "metadata": {},
   "source": [
    "Q4. How do you write and execute a Python script from the command line?"
   ]
  },
  {
   "cell_type": "markdown",
   "id": "3e13f4c0-545b-4f22-9132-19ae5aeea8f5",
   "metadata": {},
   "source": [
    "To write and execute a Python script from the command line, follow these steps:\n",
    "Open a text editor and create a new file. Save it with a .py extension, which is the convention for Python scripts. For example, I can save the file as script.py.\n",
    "Write your Python code in the file using the text editor. For example, you can write a simple \"Hello, World!\"."
   ]
  },
  {
   "cell_type": "code",
   "execution_count": 11,
   "id": "fb07fba1-8c45-496a-abaa-426921ef8eb4",
   "metadata": {},
   "outputs": [
    {
     "name": "stdout",
     "output_type": "stream",
     "text": [
      "Hello World!!\n"
     ]
    }
   ],
   "source": [
    "print(\"Hello World!!\")"
   ]
  },
  {
   "cell_type": "markdown",
   "id": "0e239b10-cffc-49d5-9a6d-08e050be4c4a",
   "metadata": {},
   "source": [
    "Now save this file, and open terminal or cmd in that folder, now write \"python script.py\". It will exeute the file and will show the output."
   ]
  },
  {
   "cell_type": "markdown",
   "id": "ee82a9bc-1942-4b6b-9726-2a18ce0282e9",
   "metadata": {},
   "source": [
    "Q5. Given a list my_list = [1, 2, 3, 4, 5], write the code to slice the list and obtain the sub-list [2, 3]."
   ]
  },
  {
   "cell_type": "code",
   "execution_count": 9,
   "id": "c0001b9e-b8af-47ae-9251-990c52898c64",
   "metadata": {},
   "outputs": [
    {
     "name": "stdout",
     "output_type": "stream",
     "text": [
      "[2, 3]\n"
     ]
    }
   ],
   "source": [
    "my_list = [1, 2, 3, 4, 5]\n",
    "print(my_list[1:3])"
   ]
  },
  {
   "cell_type": "markdown",
   "id": "387dd73b-f8b2-4913-bf58-42aaf2de88c4",
   "metadata": {},
   "source": [
    "Q6. What is a complex number in mathematics, and how is it represented in Python?"
   ]
  },
  {
   "cell_type": "markdown",
   "id": "a9857541-f2df-4f48-954e-eefac76eee3f",
   "metadata": {},
   "source": [
    "In mathematics, a complex number is a number that can be expressed in the form a + bi, where a and b are real numbers, and i is the imaginary unit defined as the square root of -1. The real part a represents the real number component, and the imaginary part b represents the imaginary number component."
   ]
  },
  {
   "cell_type": "code",
   "execution_count": 10,
   "id": "90de1239-4ad7-4e6a-9ed7-f5111c955aa3",
   "metadata": {},
   "outputs": [],
   "source": [
    "z = 2 + 3j #complex number in python, where 2 is real part and 3j is imaginary part."
   ]
  },
  {
   "cell_type": "markdown",
   "id": "b8598573-d0ba-4203-a095-46f64f35ba0b",
   "metadata": {},
   "source": [
    "Q7. What is the correct way to declare a variable named age and assign the value 25 to it?"
   ]
  },
  {
   "cell_type": "code",
   "execution_count": 2,
   "id": "8f306f88-d55f-414a-8bf8-dca4d9d035df",
   "metadata": {},
   "outputs": [],
   "source": [
    "age=25"
   ]
  },
  {
   "cell_type": "markdown",
   "id": "853d2bcd-f2f8-4ba2-a127-70f199a7d49d",
   "metadata": {},
   "source": [
    "Q8. Declare a variable named price and assign the value 9.99 to it. What data type does this variable\n",
    "belong to?"
   ]
  },
  {
   "cell_type": "code",
   "execution_count": 1,
   "id": "56b4b0e9-547b-4513-83b2-1c24a17b86e0",
   "metadata": {},
   "outputs": [
    {
     "name": "stdout",
     "output_type": "stream",
     "text": [
      "<class 'float'>\n"
     ]
    }
   ],
   "source": [
    "price = 9.99\n",
    "print(type(price)) #output: <class 'float'>"
   ]
  },
  {
   "cell_type": "markdown",
   "id": "46663b1b-c6f3-4663-8a95-395c2aa061e4",
   "metadata": {},
   "source": [
    "Q9. Create a variable named name and assign your full name to it as a string. How would you print the\n",
    "value of this variable?"
   ]
  },
  {
   "cell_type": "code",
   "execution_count": 2,
   "id": "ebf569c9-668b-447d-9358-51746aa44c3b",
   "metadata": {},
   "outputs": [
    {
     "name": "stdout",
     "output_type": "stream",
     "text": [
      "Sameer Verma\n"
     ]
    }
   ],
   "source": [
    "name = \"Sameer Verma\"\n",
    "print(name)"
   ]
  },
  {
   "cell_type": "markdown",
   "id": "9753ca40-b71a-43e7-a3ab-7d3d92cc7cac",
   "metadata": {},
   "source": [
    "Q10. Given the string \"Hello, World!\", extract the substring \"World\"."
   ]
  },
  {
   "cell_type": "code",
   "execution_count": 4,
   "id": "f79c61aa-d57a-4dd7-98f6-d244c9d655ac",
   "metadata": {},
   "outputs": [
    {
     "name": "stdout",
     "output_type": "stream",
     "text": [
      "World\n"
     ]
    }
   ],
   "source": [
    "string = \"Hello, World!\"\n",
    "print(string[7:12])"
   ]
  },
  {
   "cell_type": "markdown",
   "id": "53d69280-e0b4-457b-9fe6-1ae213b3e94c",
   "metadata": {},
   "source": [
    "Q11. Create a variable named \"is_student\" and assign it a boolean value indicating whether you are\n",
    "currently a student or not."
   ]
  },
  {
   "cell_type": "code",
   "execution_count": 5,
   "id": "65e8daa7-cc78-4b45-b881-72263d7f705c",
   "metadata": {},
   "outputs": [
    {
     "name": "stdout",
     "output_type": "stream",
     "text": [
      "You are a student with us !\n"
     ]
    }
   ],
   "source": [
    "is_student = True\n",
    "\n",
    "if (is_student):\n",
    "    print(\"You are a student with us !\")\n",
    "else:\n",
    "    print(\"You are not a student with us till now, Subscribe to become one :)\")"
   ]
  },
  {
   "cell_type": "code",
   "execution_count": null,
   "id": "f28d0564-ae2b-45f8-83e5-57b5ec7d83a6",
   "metadata": {},
   "outputs": [],
   "source": []
  }
 ],
 "metadata": {
  "kernelspec": {
   "display_name": "Python 3 (ipykernel)",
   "language": "python",
   "name": "python3"
  },
  "language_info": {
   "codemirror_mode": {
    "name": "ipython",
    "version": 3
   },
   "file_extension": ".py",
   "mimetype": "text/x-python",
   "name": "python",
   "nbconvert_exporter": "python",
   "pygments_lexer": "ipython3",
   "version": "3.10.8"
  }
 },
 "nbformat": 4,
 "nbformat_minor": 5
}
