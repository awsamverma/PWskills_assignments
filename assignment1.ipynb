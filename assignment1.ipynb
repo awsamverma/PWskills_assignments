{
 "cells": [
  {
   "cell_type": "markdown",
   "id": "322f727a-d571-4949-ab4a-0fc05b055955",
   "metadata": {},
   "source": [
    "Q1. Create one variable containing following type of data:"
   ]
  },
  {
   "cell_type": "code",
   "execution_count": 1,
   "id": "75356fe6-9d38-480f-aa8c-b9967cb76afe",
   "metadata": {},
   "outputs": [],
   "source": [
    "A=['Sam',[1,2,3,45],6.03,('verma',14)]"
   ]
  },
  {
   "cell_type": "code",
   "execution_count": 3,
   "id": "7065a4bb-0e4b-43bc-a5a3-6c000cca426a",
   "metadata": {},
   "outputs": [
    {
     "data": {
      "text/plain": [
       "['Sam', [1, 2, 3, 45], 6.03, ('verma', 14)]"
      ]
     },
     "execution_count": 3,
     "metadata": {},
     "output_type": "execute_result"
    }
   ],
   "source": [
    "A"
   ]
  },
  {
   "cell_type": "markdown",
   "id": "9c84233a-5b46-4689-a9ce-acceb4b859d1",
   "metadata": {},
   "source": [
    "Q2. Given are some following variables containing data:"
   ]
  },
  {
   "cell_type": "code",
   "execution_count": 4,
   "id": "f93dc5f0-a4a8-4593-84f8-6118bef4c2c2",
   "metadata": {},
   "outputs": [],
   "source": [
    "var1 = ''\n",
    "\n",
    "var2 = '[ DS , ML , Python]'\n",
    "\n",
    "var3 = [ 'DS' , 'ML' , 'Python' ]\n",
    "\n",
    "var4 = 1."
   ]
  },
  {
   "cell_type": "code",
   "execution_count": 6,
   "id": "b2c14f4f-7f5a-4ddc-a5d7-271d396bc911",
   "metadata": {},
   "outputs": [
    {
     "data": {
      "text/plain": [
       "str"
      ]
     },
     "execution_count": 6,
     "metadata": {},
     "output_type": "execute_result"
    }
   ],
   "source": [
    "type(var1)"
   ]
  },
  {
   "cell_type": "code",
   "execution_count": 8,
   "id": "010688ee-fbf0-4d7b-ba01-d3537c41d714",
   "metadata": {},
   "outputs": [
    {
     "data": {
      "text/plain": [
       "str"
      ]
     },
     "execution_count": 8,
     "metadata": {},
     "output_type": "execute_result"
    }
   ],
   "source": [
    "type(var2)"
   ]
  },
  {
   "cell_type": "code",
   "execution_count": 9,
   "id": "13a7c50c-c3d1-41d1-9b10-ce11b92f7c2d",
   "metadata": {},
   "outputs": [
    {
     "data": {
      "text/plain": [
       "list"
      ]
     },
     "execution_count": 9,
     "metadata": {},
     "output_type": "execute_result"
    }
   ],
   "source": [
    "type(var3)"
   ]
  },
  {
   "cell_type": "code",
   "execution_count": 10,
   "id": "5f8a8a89-9da4-4268-aef9-37c322a095b2",
   "metadata": {},
   "outputs": [
    {
     "data": {
      "text/plain": [
       "float"
      ]
     },
     "execution_count": 10,
     "metadata": {},
     "output_type": "execute_result"
    }
   ],
   "source": [
    "type(var4)"
   ]
  },
  {
   "cell_type": "markdown",
   "id": "6174399d-a906-44cc-8005-76e4256accdd",
   "metadata": {},
   "source": [
    "Q3. Explain the use of the following operators using an example:"
   ]
  },
  {
   "cell_type": "code",
   "execution_count": 11,
   "id": "c9a426b3-7535-42ba-a0a5-a940f5e7e886",
   "metadata": {},
   "outputs": [
    {
     "data": {
      "text/plain": [
       "0.5"
      ]
     },
     "execution_count": 11,
     "metadata": {},
     "output_type": "execute_result"
    }
   ],
   "source": [
    "2/4  #used for divide "
   ]
  },
  {
   "cell_type": "code",
   "execution_count": 12,
   "id": "acc0e6ee-4f7e-4668-9566-f347c1f7d91a",
   "metadata": {},
   "outputs": [
    {
     "data": {
      "text/plain": [
       "1"
      ]
     },
     "execution_count": 12,
     "metadata": {},
     "output_type": "execute_result"
    }
   ],
   "source": [
    "5%2  #used for find remainder"
   ]
  },
  {
   "cell_type": "code",
   "execution_count": 15,
   "id": "2943512c-b8ac-4c88-839a-ca858d90e6cd",
   "metadata": {},
   "outputs": [
    {
     "data": {
      "text/plain": [
       "4"
      ]
     },
     "execution_count": 15,
     "metadata": {},
     "output_type": "execute_result"
    }
   ],
   "source": [
    "9//2 #floor division round of the result to nearest whole no."
   ]
  },
  {
   "cell_type": "code",
   "execution_count": 16,
   "id": "ac5234c7-b9d4-4a5a-a432-ed2f1f87a0aa",
   "metadata": {},
   "outputs": [
    {
     "data": {
      "text/plain": [
       "8"
      ]
     },
     "execution_count": 16,
     "metadata": {},
     "output_type": "execute_result"
    }
   ],
   "source": [
    "2**3 #used as power base**2 = base*base "
   ]
  },
  {
   "cell_type": "markdown",
   "id": "12047b6d-62df-413e-9971-a0d0a7e06368",
   "metadata": {},
   "source": [
    "Q4. Create a list of length 10 of your choice containing multiple types of data. Using for loop print the\n",
    "element and its data type."
   ]
  },
  {
   "cell_type": "code",
   "execution_count": 21,
   "id": "b1ef54d5-d529-458e-8d8b-11281250a95a",
   "metadata": {},
   "outputs": [],
   "source": [
    "a=[2,3,4,\"sam\",[34.8, \"verma\"], True, (6,7,9), 66.78, False, {2,7,6}]"
   ]
  },
  {
   "cell_type": "code",
   "execution_count": 28,
   "id": "5b3eb16c-01d6-4244-8aad-4dfd808934f2",
   "metadata": {},
   "outputs": [
    {
     "name": "stdout",
     "output_type": "stream",
     "text": [
      "2 \t\t\t <class 'int'>\n",
      "3 \t\t\t <class 'int'>\n",
      "4 \t\t\t <class 'int'>\n",
      "sam \t\t\t <class 'str'>\n",
      "[34.8, 'verma'] \t\t\t <class 'list'>\n",
      "True \t\t\t <class 'bool'>\n",
      "(6, 7, 9) \t\t\t <class 'tuple'>\n",
      "66.78 \t\t\t <class 'float'>\n",
      "False \t\t\t <class 'bool'>\n",
      "{2, 6, 7} \t\t\t <class 'set'>\n"
     ]
    }
   ],
   "source": [
    "for i in a:\n",
    "    print(i,\"\\t\\t\\t\",type(i))\n",
    "    "
   ]
  },
  {
   "cell_type": "markdown",
   "id": "902c8220-25c5-4c5e-9b95-ec0864a23b22",
   "metadata": {},
   "source": [
    "Q5. Using a while loop, verify if the number A is purely divisible by number B and if so then how many\n",
    "times it can be divisible."
   ]
  },
  {
   "cell_type": "code",
   "execution_count": 2,
   "id": "50b15f0e-3c24-4225-b5e5-93732aaacf8a",
   "metadata": {},
   "outputs": [
    {
     "name": "stdin",
     "output_type": "stream",
     "text": [
      "Enter the dividend(A): 32\n",
      "Enter the dividend(B): 2\n"
     ]
    },
    {
     "name": "stdout",
     "output_type": "stream",
     "text": [
      "After dividing  32  by  2\n",
      "we get: 16\n",
      "After dividing  16  by  2\n",
      "we get: 8\n",
      "After dividing  8  by  2\n",
      "we get: 4\n",
      "After dividing  4  by  2\n",
      "we get: 2\n",
      "After dividing  2  by  2\n",
      "we get: 1\n",
      "A is divisible by B\n",
      "We can divide A by B , 5 times\n"
     ]
    }
   ],
   "source": [
    "A=int(input(\"Enter the dividend(A):\"))\n",
    "B=int(input(\"Enter the dividend(B):\"))\n",
    "count=0\n",
    "while (A%B==0):\n",
    "  print(\"After dividing \",A,\" by \",B)\n",
    "  A=A//B # A is divided by B\n",
    "  print(\"we get:\",A)\n",
    "  count+=1\n",
    "\n",
    "if count>0:\n",
    "  print(\"A is divisible by B\")\n",
    "  print(\"We can divide A by B ,\",count,\"times\")\n",
    "else:\n",
    "  print(\"A is Not divisible by B\")\n"
   ]
  },
  {
   "cell_type": "markdown",
   "id": "91308f27-e40b-4d04-b1f6-f7cf15343a73",
   "metadata": {},
   "source": [
    "Q6. Create a list containing 25 int type data. Using for loop and if-else condition print if the element is divisible by 3 or not."
   ]
  },
  {
   "cell_type": "code",
   "execution_count": 5,
   "id": "484d22bb-e414-46be-a8c6-f4862d4b7c85",
   "metadata": {},
   "outputs": [
    {
     "name": "stdin",
     "output_type": "stream",
     "text": [
      "Enter the number of elements:  25\n",
      "Enter element #1:  1\n",
      "Enter element #2:  2\n",
      "Enter element #3:  3\n",
      "Enter element #4:  4\n",
      "Enter element #5:  5\n",
      "Enter element #6:  6\n",
      "Enter element #7:  7\n",
      "Enter element #8:  8\n",
      "Enter element #9:  9\n",
      "Enter element #10:  0\n",
      "Enter element #11:  10\n",
      "Enter element #12:  11\n",
      "Enter element #13:  12\n",
      "Enter element #14:  13\n",
      "Enter element #15:  14\n",
      "Enter element #16:  15\n",
      "Enter element #17:  16\n",
      "Enter element #18:  17\n",
      "Enter element #19:  18\n",
      "Enter element #20:  19\n",
      "Enter element #21:  20\n",
      "Enter element #22:  21\n",
      "Enter element #23:  24\n",
      "Enter element #24:  27\n",
      "Enter element #25:  30\n"
     ]
    },
    {
     "name": "stdout",
     "output_type": "stream",
     "text": [
      "List of integer values: [1, 2, 3, 4, 5, 6, 7, 8, 9, 0, 10, 11, 12, 13, 14, 15, 16, 17, 18, 19, 20, 21, 24, 27, 30]\n",
      "1  is not divisible by 3\n",
      "2  is not divisible by 3\n",
      "3  is divisible by 3\n",
      "4  is not divisible by 3\n",
      "5  is not divisible by 3\n",
      "6  is divisible by 3\n",
      "7  is not divisible by 3\n",
      "8  is not divisible by 3\n",
      "9  is divisible by 3\n",
      "0  is divisible by 3\n",
      "10  is not divisible by 3\n",
      "11  is not divisible by 3\n",
      "12  is divisible by 3\n",
      "13  is not divisible by 3\n",
      "14  is not divisible by 3\n",
      "15  is divisible by 3\n",
      "16  is not divisible by 3\n",
      "17  is not divisible by 3\n",
      "18  is divisible by 3\n",
      "19  is not divisible by 3\n",
      "20  is not divisible by 3\n",
      "21  is divisible by 3\n",
      "24  is divisible by 3\n",
      "27  is divisible by 3\n",
      "30  is divisible by 3\n"
     ]
    }
   ],
   "source": [
    "num_elements = int(input(\"Enter the number of elements: \"))\n",
    "\n",
    "user_list = []\n",
    "\n",
    "for i in range(num_elements):\n",
    "\n",
    "\n",
    "  valid_input = False\n",
    "  \n",
    "  while not valid_input:\n",
    "    value = input(\"Enter element #{}: \".format(i+1))\n",
    "    if value.isdigit():\n",
    "      user_list.append(int(value))\n",
    "      valid_input = True\n",
    "    else:\n",
    "      print(\"Wrong input! Please enter an integer.\")\n",
    "\n",
    "print(\"List of integer values:\", user_list)\n",
    "\n",
    "for i in user_list:\n",
    "  if (i%3==0):\n",
    "    print(i,\" is divisible by 3\")\n",
    "  else:\n",
    "    print(i,\" is not divisible by 3\")"
   ]
  },
  {
   "cell_type": "markdown",
   "id": "36fb047f-07cb-4f51-a87a-692cf64bea20",
   "metadata": {},
   "source": [
    "Q7. What do you understand about mutable and immutable data types? Give examples for both showing\n",
    "this property."
   ]
  },
  {
   "cell_type": "code",
   "execution_count": 7,
   "id": "f06a00db-908d-493a-ac85-630f3da1844c",
   "metadata": {},
   "outputs": [
    {
     "ename": "TypeError",
     "evalue": "'tuple' object does not support item assignment",
     "output_type": "error",
     "traceback": [
      "\u001b[0;31m---------------------------------------------------------------------------\u001b[0m",
      "\u001b[0;31mTypeError\u001b[0m                                 Traceback (most recent call last)",
      "Cell \u001b[0;32mIn[7], line 5\u001b[0m\n\u001b[1;32m      2\u001b[0m tupl \u001b[38;5;241m=\u001b[39m (\u001b[38;5;241m1\u001b[39m,\u001b[38;5;241m2\u001b[39m,\u001b[38;5;241m3\u001b[39m,\u001b[38;5;241m4\u001b[39m,\u001b[38;5;241m5\u001b[39m)\n\u001b[1;32m      4\u001b[0m lst[\u001b[38;5;241m3\u001b[39m] \u001b[38;5;241m=\u001b[39m \u001b[38;5;241m99\u001b[39m \u001b[38;5;66;03m#it will successfully change\u001b[39;00m\n\u001b[0;32m----> 5\u001b[0m \u001b[43mtupl\u001b[49m\u001b[43m[\u001b[49m\u001b[38;5;241;43m3\u001b[39;49m\u001b[43m]\u001b[49m \u001b[38;5;241m=\u001b[39m \u001b[38;5;241m99\u001b[39m \u001b[38;5;66;03m#output: tuple' object does not support item assignment\u001b[39;00m\n\u001b[1;32m      7\u001b[0m \u001b[38;5;66;03m#therefore we cannot change the existing values in immutable objects, and also we cannot add new values in existing tuple objects.\u001b[39;00m\n",
      "\u001b[0;31mTypeError\u001b[0m: 'tuple' object does not support item assignment"
     ]
    }
   ],
   "source": [
    "lst = [1,2,3,4,5]\n",
    "tupl = (1,2,3,4,5)\n",
    "\n",
    "lst[3] = 99 #it will successfully change\n",
    "tupl[3] = 99 #output: tuple' object does not support item assignment\n",
    "\n",
    "#therefore we cannot change the existing values in immutable objects, and also we cannot add new values in existing tuple objects."
   ]
  },
  {
   "cell_type": "code",
   "execution_count": null,
   "id": "b0d31f02-674a-4b48-b3f4-178001622839",
   "metadata": {},
   "outputs": [],
   "source": []
  }
 ],
 "metadata": {
  "kernelspec": {
   "display_name": "Python 3 (ipykernel)",
   "language": "python",
   "name": "python3"
  },
  "language_info": {
   "codemirror_mode": {
    "name": "ipython",
    "version": 3
   },
   "file_extension": ".py",
   "mimetype": "text/x-python",
   "name": "python",
   "nbconvert_exporter": "python",
   "pygments_lexer": "ipython3",
   "version": "3.10.8"
  }
 },
 "nbformat": 4,
 "nbformat_minor": 5
}
